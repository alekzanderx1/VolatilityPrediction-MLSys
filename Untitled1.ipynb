{
 "cells": [
  {
   "cell_type": "code",
   "execution_count": 59,
   "id": "4d1f6927",
   "metadata": {},
   "outputs": [],
   "source": [
    "import pandas as pd\n",
    "from datetime import datetime\n",
    "import datetime as dt\n",
    "import numpy as np"
   ]
  },
  {
   "cell_type": "code",
   "execution_count": 30,
   "id": "7ac2a56f",
   "metadata": {},
   "outputs": [],
   "source": [
    "df = pd.read_excel(\"Dataset.xlsx\")"
   ]
  },
  {
   "cell_type": "code",
   "execution_count": 31,
   "id": "1eb563d5",
   "metadata": {},
   "outputs": [
    {
     "data": {
      "text/html": [
       "<div>\n",
       "<style scoped>\n",
       "    .dataframe tbody tr th:only-of-type {\n",
       "        vertical-align: middle;\n",
       "    }\n",
       "\n",
       "    .dataframe tbody tr th {\n",
       "        vertical-align: top;\n",
       "    }\n",
       "\n",
       "    .dataframe thead th {\n",
       "        text-align: right;\n",
       "    }\n",
       "</style>\n",
       "<table border=\"1\" class=\"dataframe\">\n",
       "  <thead>\n",
       "    <tr style=\"text-align: right;\">\n",
       "      <th></th>\n",
       "      <th>Date</th>\n",
       "      <th>Spread</th>\n",
       "      <th>Mcap</th>\n",
       "      <th>P/B</th>\n",
       "      <th>P/E</th>\n",
       "      <th>Close</th>\n",
       "      <th>Volatility</th>\n",
       "      <th>30y_yield</th>\n",
       "      <th>AA Yield</th>\n",
       "    </tr>\n",
       "  </thead>\n",
       "  <tbody>\n",
       "    <tr>\n",
       "      <th>0</th>\n",
       "      <td>28/10/22</td>\n",
       "      <td>1.17</td>\n",
       "      <td>32.365M</td>\n",
       "      <td>3.9334</td>\n",
       "      <td>18.8887</td>\n",
       "      <td>3901.06</td>\n",
       "      <td>27.85</td>\n",
       "      <td>4.1414</td>\n",
       "      <td>5.24</td>\n",
       "    </tr>\n",
       "    <tr>\n",
       "      <th>1</th>\n",
       "      <td>21/10/22</td>\n",
       "      <td>1.18</td>\n",
       "      <td>31.21M</td>\n",
       "      <td>3.7839</td>\n",
       "      <td>18.1706</td>\n",
       "      <td>3752.75</td>\n",
       "      <td>29.19</td>\n",
       "      <td>4.3335</td>\n",
       "      <td>5.23</td>\n",
       "    </tr>\n",
       "    <tr>\n",
       "      <th>2</th>\n",
       "      <td>14/10/22</td>\n",
       "      <td>1.15</td>\n",
       "      <td>29.805M</td>\n",
       "      <td>3.6128</td>\n",
       "      <td>17.3490</td>\n",
       "      <td>3583.07</td>\n",
       "      <td>27.99</td>\n",
       "      <td>3.9916</td>\n",
       "      <td>5.06</td>\n",
       "    </tr>\n",
       "    <tr>\n",
       "      <th>3</th>\n",
       "      <td>07/10/22</td>\n",
       "      <td>1.13</td>\n",
       "      <td>30.271M</td>\n",
       "      <td>3.6682</td>\n",
       "      <td>17.6230</td>\n",
       "      <td>3639.66</td>\n",
       "      <td>26.09</td>\n",
       "      <td>3.8417</td>\n",
       "      <td>4.85</td>\n",
       "    </tr>\n",
       "    <tr>\n",
       "      <th>4</th>\n",
       "      <td>30/09/22</td>\n",
       "      <td>1.15</td>\n",
       "      <td>29.80M</td>\n",
       "      <td>3.6231</td>\n",
       "      <td>17.2963</td>\n",
       "      <td>3585.62</td>\n",
       "      <td>23.94</td>\n",
       "      <td>3.7759</td>\n",
       "      <td>4.85</td>\n",
       "    </tr>\n",
       "  </tbody>\n",
       "</table>\n",
       "</div>"
      ],
      "text/plain": [
       "       Date  Spread     Mcap     P/B      P/E    Close  Volatility  30y_yield  \\\n",
       "0  28/10/22    1.17  32.365M  3.9334  18.8887  3901.06       27.85     4.1414   \n",
       "1  21/10/22    1.18   31.21M  3.7839  18.1706  3752.75       29.19     4.3335   \n",
       "2  14/10/22    1.15  29.805M  3.6128  17.3490  3583.07       27.99     3.9916   \n",
       "3  07/10/22    1.13  30.271M  3.6682  17.6230  3639.66       26.09     3.8417   \n",
       "4  30/09/22    1.15   29.80M  3.6231  17.2963  3585.62       23.94     3.7759   \n",
       "\n",
       "   AA Yield  \n",
       "0      5.24  \n",
       "1      5.23  \n",
       "2      5.06  \n",
       "3      4.85  \n",
       "4      4.85  "
      ]
     },
     "execution_count": 31,
     "metadata": {},
     "output_type": "execute_result"
    }
   ],
   "source": [
    "df.head()"
   ]
  },
  {
   "cell_type": "code",
   "execution_count": 40,
   "id": "80540317",
   "metadata": {
    "scrolled": true
   },
   "outputs": [],
   "source": [
    "df['Date'] = pd.to_datetime(df[\"Date\"], dayfirst = True)"
   ]
  },
  {
   "cell_type": "code",
   "execution_count": 41,
   "id": "ed3ac238",
   "metadata": {},
   "outputs": [],
   "source": [
    "copy_df = df.copy()"
   ]
  },
  {
   "cell_type": "code",
   "execution_count": 42,
   "id": "d89ebf1f",
   "metadata": {},
   "outputs": [],
   "source": [
    "copy_df.set_index('Date', inplace = True)"
   ]
  },
  {
   "cell_type": "code",
   "execution_count": 43,
   "id": "c9383533",
   "metadata": {},
   "outputs": [],
   "source": [
    "ff = pd.read_csv(\"FF.csv\")"
   ]
  },
  {
   "cell_type": "code",
   "execution_count": 44,
   "id": "186502ac",
   "metadata": {},
   "outputs": [],
   "source": [
    "ff['Date'] = pd.to_datetime(ff['Date'])"
   ]
  },
  {
   "cell_type": "code",
   "execution_count": 45,
   "id": "2e43f48b",
   "metadata": {},
   "outputs": [],
   "source": [
    "ff.set_index('Date', inplace = True)"
   ]
  },
  {
   "cell_type": "code",
   "execution_count": 46,
   "id": "851eeff0",
   "metadata": {},
   "outputs": [],
   "source": [
    "ff_copy_df = copy_df.copy()"
   ]
  },
  {
   "cell_type": "code",
   "execution_count": 47,
   "id": "c4670d25",
   "metadata": {},
   "outputs": [],
   "source": [
    "ff_copy_df = ff_copy_df.join(ff)"
   ]
  },
  {
   "cell_type": "code",
   "execution_count": 48,
   "id": "6e8094b1",
   "metadata": {},
   "outputs": [
    {
     "data": {
      "text/plain": [
       "71"
      ]
     },
     "execution_count": 48,
     "metadata": {},
     "output_type": "execute_result"
    }
   ],
   "source": [
    "ff_copy_df['hml'].isna().sum()"
   ]
  },
  {
   "cell_type": "code",
   "execution_count": 49,
   "id": "57dc3d01",
   "metadata": {},
   "outputs": [],
   "source": [
    "from pathlib import Path"
   ]
  },
  {
   "cell_type": "code",
   "execution_count": 50,
   "id": "9e1f0831",
   "metadata": {},
   "outputs": [],
   "source": [
    "filepath = Path(\"merge.csv\")"
   ]
  },
  {
   "cell_type": "code",
   "execution_count": 51,
   "id": "47739aa1",
   "metadata": {},
   "outputs": [],
   "source": [
    "ff_copy_df.to_csv(filepath)"
   ]
  },
  {
   "cell_type": "code",
   "execution_count": 56,
   "id": "1e23b158",
   "metadata": {},
   "outputs": [],
   "source": [
    "ff_copy = pd.read_csv(\"FF.csv\")"
   ]
  },
  {
   "cell_type": "code",
   "execution_count": 57,
   "id": "c56c126b",
   "metadata": {},
   "outputs": [],
   "source": [
    "ff_copy['Date'] = pd.to_datetime(ff_copy['Date'])"
   ]
  },
  {
   "cell_type": "code",
   "execution_count": 60,
   "id": "2297f786",
   "metadata": {},
   "outputs": [],
   "source": [
    "data = []\n",
    "for index, row in ff_copy.iterrows():\n",
    "    today = row[0]\n",
    "    friday = today + dt.timedelta( (4-today.weekday()) % 7 )\n",
    "    data.append(friday)"
   ]
  },
  {
   "cell_type": "code",
   "execution_count": 69,
   "id": "01250731",
   "metadata": {},
   "outputs": [],
   "source": [
    "ff_copy['Date'] = pd.to_datetime(data)"
   ]
  },
  {
   "cell_type": "code",
   "execution_count": 71,
   "id": "077f824f",
   "metadata": {},
   "outputs": [],
   "source": [
    "ff_copy.set_index('Date', inplace = True)"
   ]
  },
  {
   "cell_type": "code",
   "execution_count": 76,
   "id": "5041ecab",
   "metadata": {},
   "outputs": [],
   "source": [
    "ff_df = copy_df.copy()"
   ]
  },
  {
   "cell_type": "code",
   "execution_count": 80,
   "id": "8226fe1f",
   "metadata": {},
   "outputs": [],
   "source": [
    "ff_df = ff_df.join(ff_copy)"
   ]
  },
  {
   "cell_type": "code",
   "execution_count": 81,
   "id": "0f281d1d",
   "metadata": {},
   "outputs": [
    {
     "data": {
      "text/html": [
       "<div>\n",
       "<style scoped>\n",
       "    .dataframe tbody tr th:only-of-type {\n",
       "        vertical-align: middle;\n",
       "    }\n",
       "\n",
       "    .dataframe tbody tr th {\n",
       "        vertical-align: top;\n",
       "    }\n",
       "\n",
       "    .dataframe thead th {\n",
       "        text-align: right;\n",
       "    }\n",
       "</style>\n",
       "<table border=\"1\" class=\"dataframe\">\n",
       "  <thead>\n",
       "    <tr style=\"text-align: right;\">\n",
       "      <th></th>\n",
       "      <th>Spread</th>\n",
       "      <th>Mcap</th>\n",
       "      <th>P/B</th>\n",
       "      <th>P/E</th>\n",
       "      <th>Close</th>\n",
       "      <th>Volatility</th>\n",
       "      <th>30y_yield</th>\n",
       "      <th>AA Yield</th>\n",
       "      <th>Mkt_rf</th>\n",
       "      <th>smb</th>\n",
       "      <th>hml</th>\n",
       "      <th>rf</th>\n",
       "    </tr>\n",
       "    <tr>\n",
       "      <th>Date</th>\n",
       "      <th></th>\n",
       "      <th></th>\n",
       "      <th></th>\n",
       "      <th></th>\n",
       "      <th></th>\n",
       "      <th></th>\n",
       "      <th></th>\n",
       "      <th></th>\n",
       "      <th></th>\n",
       "      <th></th>\n",
       "      <th></th>\n",
       "      <th></th>\n",
       "    </tr>\n",
       "  </thead>\n",
       "  <tbody>\n",
       "    <tr>\n",
       "      <th>1990-01-05</th>\n",
       "      <td>0.97</td>\n",
       "      <td>NaN</td>\n",
       "      <td>NaN</td>\n",
       "      <td>15.1200</td>\n",
       "      <td>352.20</td>\n",
       "      <td>11.92</td>\n",
       "      <td>8.0560</td>\n",
       "      <td>8.89</td>\n",
       "      <td>-0.23</td>\n",
       "      <td>1.25</td>\n",
       "      <td>-0.76</td>\n",
       "      <td>0.141</td>\n",
       "    </tr>\n",
       "    <tr>\n",
       "      <th>1990-01-12</th>\n",
       "      <td>0.95</td>\n",
       "      <td>NaN</td>\n",
       "      <td>NaN</td>\n",
       "      <td>14.6600</td>\n",
       "      <td>339.93</td>\n",
       "      <td>14.44</td>\n",
       "      <td>8.1710</td>\n",
       "      <td>8.92</td>\n",
       "      <td>-3.56</td>\n",
       "      <td>0.51</td>\n",
       "      <td>0.61</td>\n",
       "      <td>0.141</td>\n",
       "    </tr>\n",
       "    <tr>\n",
       "      <th>1990-01-19</th>\n",
       "      <td>0.95</td>\n",
       "      <td>NaN</td>\n",
       "      <td>NaN</td>\n",
       "      <td>14.2400</td>\n",
       "      <td>339.15</td>\n",
       "      <td>14.67</td>\n",
       "      <td>8.2700</td>\n",
       "      <td>8.98</td>\n",
       "      <td>-0.47</td>\n",
       "      <td>-0.28</td>\n",
       "      <td>-0.19</td>\n",
       "      <td>0.141</td>\n",
       "    </tr>\n",
       "    <tr>\n",
       "      <th>1990-01-26</th>\n",
       "      <td>0.95</td>\n",
       "      <td>NaN</td>\n",
       "      <td>NaN</td>\n",
       "      <td>13.9400</td>\n",
       "      <td>325.80</td>\n",
       "      <td>16.41</td>\n",
       "      <td>8.5220</td>\n",
       "      <td>9.05</td>\n",
       "      <td>-4.21</td>\n",
       "      <td>-0.25</td>\n",
       "      <td>0.82</td>\n",
       "      <td>0.141</td>\n",
       "    </tr>\n",
       "    <tr>\n",
       "      <th>1990-02-02</th>\n",
       "      <td>0.95</td>\n",
       "      <td>1.734M</td>\n",
       "      <td>2.0013</td>\n",
       "      <td>13.8364</td>\n",
       "      <td>330.92</td>\n",
       "      <td>16.93</td>\n",
       "      <td>8.5100</td>\n",
       "      <td>9.15</td>\n",
       "      <td>1.22</td>\n",
       "      <td>-1.74</td>\n",
       "      <td>-0.07</td>\n",
       "      <td>0.142</td>\n",
       "    </tr>\n",
       "    <tr>\n",
       "      <th>...</th>\n",
       "      <td>...</td>\n",
       "      <td>...</td>\n",
       "      <td>...</td>\n",
       "      <td>...</td>\n",
       "      <td>...</td>\n",
       "      <td>...</td>\n",
       "      <td>...</td>\n",
       "      <td>...</td>\n",
       "      <td>...</td>\n",
       "      <td>...</td>\n",
       "      <td>...</td>\n",
       "      <td>...</td>\n",
       "    </tr>\n",
       "    <tr>\n",
       "      <th>2022-10-21</th>\n",
       "      <td>1.18</td>\n",
       "      <td>31.21M</td>\n",
       "      <td>3.7839</td>\n",
       "      <td>18.1706</td>\n",
       "      <td>3752.75</td>\n",
       "      <td>29.19</td>\n",
       "      <td>4.3335</td>\n",
       "      <td>5.23</td>\n",
       "      <td>NaN</td>\n",
       "      <td>NaN</td>\n",
       "      <td>NaN</td>\n",
       "      <td>NaN</td>\n",
       "    </tr>\n",
       "    <tr>\n",
       "      <th>2022-10-28</th>\n",
       "      <td>1.17</td>\n",
       "      <td>32.365M</td>\n",
       "      <td>3.9334</td>\n",
       "      <td>18.8887</td>\n",
       "      <td>3901.06</td>\n",
       "      <td>27.85</td>\n",
       "      <td>4.1414</td>\n",
       "      <td>5.24</td>\n",
       "      <td>NaN</td>\n",
       "      <td>NaN</td>\n",
       "      <td>NaN</td>\n",
       "      <td>NaN</td>\n",
       "    </tr>\n",
       "    <tr>\n",
       "      <th>2022-11-04</th>\n",
       "      <td>NaN</td>\n",
       "      <td>31.234M</td>\n",
       "      <td>3.7974</td>\n",
       "      <td>18.2299</td>\n",
       "      <td>3770.55</td>\n",
       "      <td>27.96</td>\n",
       "      <td>4.2463</td>\n",
       "      <td>NaN</td>\n",
       "      <td>NaN</td>\n",
       "      <td>NaN</td>\n",
       "      <td>NaN</td>\n",
       "      <td>NaN</td>\n",
       "    </tr>\n",
       "    <tr>\n",
       "      <th>2022-11-09</th>\n",
       "      <td>NaN</td>\n",
       "      <td>31.046M</td>\n",
       "      <td>NaN</td>\n",
       "      <td>NaN</td>\n",
       "      <td>NaN</td>\n",
       "      <td>NaN</td>\n",
       "      <td>NaN</td>\n",
       "      <td>NaN</td>\n",
       "      <td>NaN</td>\n",
       "      <td>NaN</td>\n",
       "      <td>NaN</td>\n",
       "      <td>NaN</td>\n",
       "    </tr>\n",
       "    <tr>\n",
       "      <th>2022-11-10</th>\n",
       "      <td>NaN</td>\n",
       "      <td>NaN</td>\n",
       "      <td>3.9377</td>\n",
       "      <td>18.8967</td>\n",
       "      <td>3909.32</td>\n",
       "      <td>29.54</td>\n",
       "      <td>4.1168</td>\n",
       "      <td>NaN</td>\n",
       "      <td>NaN</td>\n",
       "      <td>NaN</td>\n",
       "      <td>NaN</td>\n",
       "      <td>NaN</td>\n",
       "    </tr>\n",
       "  </tbody>\n",
       "</table>\n",
       "<p>1716 rows × 12 columns</p>\n",
       "</div>"
      ],
      "text/plain": [
       "            Spread     Mcap     P/B      P/E    Close  Volatility  30y_yield  \\\n",
       "Date                                                                           \n",
       "1990-01-05    0.97      NaN     NaN  15.1200   352.20       11.92     8.0560   \n",
       "1990-01-12    0.95      NaN     NaN  14.6600   339.93       14.44     8.1710   \n",
       "1990-01-19    0.95      NaN     NaN  14.2400   339.15       14.67     8.2700   \n",
       "1990-01-26    0.95      NaN     NaN  13.9400   325.80       16.41     8.5220   \n",
       "1990-02-02    0.95   1.734M  2.0013  13.8364   330.92       16.93     8.5100   \n",
       "...            ...      ...     ...      ...      ...         ...        ...   \n",
       "2022-10-21    1.18   31.21M  3.7839  18.1706  3752.75       29.19     4.3335   \n",
       "2022-10-28    1.17  32.365M  3.9334  18.8887  3901.06       27.85     4.1414   \n",
       "2022-11-04     NaN  31.234M  3.7974  18.2299  3770.55       27.96     4.2463   \n",
       "2022-11-09     NaN  31.046M     NaN      NaN      NaN         NaN        NaN   \n",
       "2022-11-10     NaN      NaN  3.9377  18.8967  3909.32       29.54     4.1168   \n",
       "\n",
       "            AA Yield  Mkt_rf   smb   hml     rf  \n",
       "Date                                             \n",
       "1990-01-05      8.89   -0.23  1.25 -0.76  0.141  \n",
       "1990-01-12      8.92   -3.56  0.51  0.61  0.141  \n",
       "1990-01-19      8.98   -0.47 -0.28 -0.19  0.141  \n",
       "1990-01-26      9.05   -4.21 -0.25  0.82  0.141  \n",
       "1990-02-02      9.15    1.22 -1.74 -0.07  0.142  \n",
       "...              ...     ...   ...   ...    ...  \n",
       "2022-10-21      5.23     NaN   NaN   NaN    NaN  \n",
       "2022-10-28      5.24     NaN   NaN   NaN    NaN  \n",
       "2022-11-04       NaN     NaN   NaN   NaN    NaN  \n",
       "2022-11-09       NaN     NaN   NaN   NaN    NaN  \n",
       "2022-11-10       NaN     NaN   NaN   NaN    NaN  \n",
       "\n",
       "[1716 rows x 12 columns]"
      ]
     },
     "execution_count": 81,
     "metadata": {},
     "output_type": "execute_result"
    }
   ],
   "source": [
    "ff_df"
   ]
  },
  {
   "cell_type": "code",
   "execution_count": 108,
   "id": "0af2051a",
   "metadata": {},
   "outputs": [],
   "source": [
    "divs = pd.read_csv(\"divs.csv\")"
   ]
  },
  {
   "cell_type": "code",
   "execution_count": 109,
   "id": "b7d801c2",
   "metadata": {},
   "outputs": [
    {
     "data": {
      "text/html": [
       "<div>\n",
       "<style scoped>\n",
       "    .dataframe tbody tr th:only-of-type {\n",
       "        vertical-align: middle;\n",
       "    }\n",
       "\n",
       "    .dataframe tbody tr th {\n",
       "        vertical-align: top;\n",
       "    }\n",
       "\n",
       "    .dataframe thead th {\n",
       "        text-align: right;\n",
       "    }\n",
       "</style>\n",
       "<table border=\"1\" class=\"dataframe\">\n",
       "  <thead>\n",
       "    <tr style=\"text-align: right;\">\n",
       "      <th></th>\n",
       "      <th>Date</th>\n",
       "      <th>Yield</th>\n",
       "    </tr>\n",
       "  </thead>\n",
       "  <tbody>\n",
       "    <tr>\n",
       "      <th>0</th>\n",
       "      <td>11-10-2022</td>\n",
       "      <td>1.69</td>\n",
       "    </tr>\n",
       "    <tr>\n",
       "      <th>1</th>\n",
       "      <td>11-04-2022</td>\n",
       "      <td>1.75</td>\n",
       "    </tr>\n",
       "    <tr>\n",
       "      <th>2</th>\n",
       "      <td>10/28/2022</td>\n",
       "      <td>1.68</td>\n",
       "    </tr>\n",
       "    <tr>\n",
       "      <th>3</th>\n",
       "      <td>10/21/2022</td>\n",
       "      <td>1.75</td>\n",
       "    </tr>\n",
       "    <tr>\n",
       "      <th>4</th>\n",
       "      <td>10/14/2022</td>\n",
       "      <td>1.83</td>\n",
       "    </tr>\n",
       "  </tbody>\n",
       "</table>\n",
       "</div>"
      ],
      "text/plain": [
       "         Date  Yield\n",
       "0  11-10-2022   1.69\n",
       "1  11-04-2022   1.75\n",
       "2  10/28/2022   1.68\n",
       "3  10/21/2022   1.75\n",
       "4  10/14/2022   1.83"
      ]
     },
     "execution_count": 109,
     "metadata": {},
     "output_type": "execute_result"
    }
   ],
   "source": [
    "divs.head()"
   ]
  },
  {
   "cell_type": "code",
   "execution_count": 110,
   "id": "9b4983a8",
   "metadata": {},
   "outputs": [],
   "source": [
    "divs['Date'] = pd.to_datetime(divs['Date'])"
   ]
  },
  {
   "cell_type": "code",
   "execution_count": 111,
   "id": "2e1c9d82",
   "metadata": {},
   "outputs": [
    {
     "data": {
      "text/html": [
       "<div>\n",
       "<style scoped>\n",
       "    .dataframe tbody tr th:only-of-type {\n",
       "        vertical-align: middle;\n",
       "    }\n",
       "\n",
       "    .dataframe tbody tr th {\n",
       "        vertical-align: top;\n",
       "    }\n",
       "\n",
       "    .dataframe thead th {\n",
       "        text-align: right;\n",
       "    }\n",
       "</style>\n",
       "<table border=\"1\" class=\"dataframe\">\n",
       "  <thead>\n",
       "    <tr style=\"text-align: right;\">\n",
       "      <th></th>\n",
       "      <th>Date</th>\n",
       "      <th>Yield</th>\n",
       "    </tr>\n",
       "  </thead>\n",
       "  <tbody>\n",
       "    <tr>\n",
       "      <th>0</th>\n",
       "      <td>2022-11-10</td>\n",
       "      <td>1.69</td>\n",
       "    </tr>\n",
       "    <tr>\n",
       "      <th>1</th>\n",
       "      <td>2022-11-04</td>\n",
       "      <td>1.75</td>\n",
       "    </tr>\n",
       "    <tr>\n",
       "      <th>2</th>\n",
       "      <td>2022-10-28</td>\n",
       "      <td>1.68</td>\n",
       "    </tr>\n",
       "    <tr>\n",
       "      <th>3</th>\n",
       "      <td>2022-10-21</td>\n",
       "      <td>1.75</td>\n",
       "    </tr>\n",
       "    <tr>\n",
       "      <th>4</th>\n",
       "      <td>2022-10-14</td>\n",
       "      <td>1.83</td>\n",
       "    </tr>\n",
       "  </tbody>\n",
       "</table>\n",
       "</div>"
      ],
      "text/plain": [
       "        Date  Yield\n",
       "0 2022-11-10   1.69\n",
       "1 2022-11-04   1.75\n",
       "2 2022-10-28   1.68\n",
       "3 2022-10-21   1.75\n",
       "4 2022-10-14   1.83"
      ]
     },
     "execution_count": 111,
     "metadata": {},
     "output_type": "execute_result"
    }
   ],
   "source": [
    "divs.head()"
   ]
  },
  {
   "cell_type": "code",
   "execution_count": 112,
   "id": "c9c3b15c",
   "metadata": {},
   "outputs": [],
   "source": [
    "pre = pd.read_csv(\"pre.csv\")"
   ]
  },
  {
   "cell_type": "code",
   "execution_count": 113,
   "id": "83839e84",
   "metadata": {},
   "outputs": [],
   "source": [
    "pre['Date'] = pd.to_datetime(pre['Date'], dayfirst = True)"
   ]
  },
  {
   "cell_type": "code",
   "execution_count": 93,
   "id": "f0cb8b38",
   "metadata": {},
   "outputs": [],
   "source": [
    "divs.set_index('Date', inplace = True)"
   ]
  },
  {
   "cell_type": "code",
   "execution_count": 95,
   "id": "353a3e31",
   "metadata": {},
   "outputs": [],
   "source": [
    "pre.set_index('Date', inplace = True)"
   ]
  },
  {
   "cell_type": "code",
   "execution_count": 103,
   "id": "8005d7fc",
   "metadata": {},
   "outputs": [
    {
     "name": "stderr",
     "output_type": "stream",
     "text": [
      "/tmp/ipykernel_5303/3417817609.py:1: FutureWarning: The frame.append method is deprecated and will be removed from pandas in a future version. Use pandas.concat instead.\n",
      "  merged_divs = divs.append(pre)\n"
     ]
    }
   ],
   "source": [
    "merged_divs = divs.append(pre)"
   ]
  },
  {
   "cell_type": "code",
   "execution_count": 97,
   "id": "45b1b29d",
   "metadata": {},
   "outputs": [
    {
     "data": {
      "text/plain": [
       "890"
      ]
     },
     "execution_count": 97,
     "metadata": {},
     "output_type": "execute_result"
    }
   ],
   "source": [
    "len(divs)"
   ]
  },
  {
   "cell_type": "code",
   "execution_count": 136,
   "id": "12daf3fb",
   "metadata": {},
   "outputs": [],
   "source": [
    "ff_div_df = ff_df.join(merged_divs)"
   ]
  },
  {
   "cell_type": "code",
   "execution_count": 115,
   "id": "2806cff3",
   "metadata": {},
   "outputs": [
    {
     "name": "stderr",
     "output_type": "stream",
     "text": [
      "/tmp/ipykernel_5303/2726112351.py:1: FutureWarning: The frame.append method is deprecated and will be removed from pandas in a future version. Use pandas.concat instead.\n",
      "  merged_df = divs.append(pre)\n"
     ]
    }
   ],
   "source": [
    "merged_df = divs.append(pre)"
   ]
  },
  {
   "cell_type": "code",
   "execution_count": 116,
   "id": "1282f631",
   "metadata": {},
   "outputs": [
    {
     "data": {
      "text/html": [
       "<div>\n",
       "<style scoped>\n",
       "    .dataframe tbody tr th:only-of-type {\n",
       "        vertical-align: middle;\n",
       "    }\n",
       "\n",
       "    .dataframe tbody tr th {\n",
       "        vertical-align: top;\n",
       "    }\n",
       "\n",
       "    .dataframe thead th {\n",
       "        text-align: right;\n",
       "    }\n",
       "</style>\n",
       "<table border=\"1\" class=\"dataframe\">\n",
       "  <thead>\n",
       "    <tr style=\"text-align: right;\">\n",
       "      <th></th>\n",
       "      <th>Date</th>\n",
       "      <th>Yield</th>\n",
       "    </tr>\n",
       "  </thead>\n",
       "  <tbody>\n",
       "    <tr>\n",
       "      <th>0</th>\n",
       "      <td>2022-11-10</td>\n",
       "      <td>1.69</td>\n",
       "    </tr>\n",
       "    <tr>\n",
       "      <th>1</th>\n",
       "      <td>2022-11-04</td>\n",
       "      <td>1.75</td>\n",
       "    </tr>\n",
       "    <tr>\n",
       "      <th>2</th>\n",
       "      <td>2022-10-28</td>\n",
       "      <td>1.68</td>\n",
       "    </tr>\n",
       "    <tr>\n",
       "      <th>3</th>\n",
       "      <td>2022-10-21</td>\n",
       "      <td>1.75</td>\n",
       "    </tr>\n",
       "    <tr>\n",
       "      <th>4</th>\n",
       "      <td>2022-10-14</td>\n",
       "      <td>1.83</td>\n",
       "    </tr>\n",
       "  </tbody>\n",
       "</table>\n",
       "</div>"
      ],
      "text/plain": [
       "        Date  Yield\n",
       "0 2022-11-10   1.69\n",
       "1 2022-11-04   1.75\n",
       "2 2022-10-28   1.68\n",
       "3 2022-10-21   1.75\n",
       "4 2022-10-14   1.83"
      ]
     },
     "execution_count": 116,
     "metadata": {},
     "output_type": "execute_result"
    }
   ],
   "source": [
    "merged_df.head()"
   ]
  },
  {
   "cell_type": "code",
   "execution_count": 117,
   "id": "5b896093",
   "metadata": {},
   "outputs": [],
   "source": [
    "data = []\n",
    "for index, row in merged_df.iterrows():\n",
    "    today = row[0]\n",
    "    friday = today + dt.timedelta( (4-today.weekday()) % 7 )\n",
    "    data.append(friday)"
   ]
  },
  {
   "cell_type": "code",
   "execution_count": 118,
   "id": "cb826dc9",
   "metadata": {},
   "outputs": [],
   "source": [
    "merged_df['Date'] = data"
   ]
  },
  {
   "cell_type": "code",
   "execution_count": 121,
   "id": "563a350c",
   "metadata": {},
   "outputs": [],
   "source": [
    "merged_df.set_index('Date', inplace = True)"
   ]
  },
  {
   "cell_type": "code",
   "execution_count": 122,
   "id": "cb7895c8",
   "metadata": {},
   "outputs": [
    {
     "data": {
      "text/plain": [
       "637"
      ]
     },
     "execution_count": 122,
     "metadata": {},
     "output_type": "execute_result"
    }
   ],
   "source": [
    "ff_df.join(merged_df).Yield.isna().sum()"
   ]
  },
  {
   "cell_type": "code",
   "execution_count": 125,
   "id": "956462e6",
   "metadata": {},
   "outputs": [],
   "source": [
    "merged_df.sort_index(inplace = True)"
   ]
  },
  {
   "cell_type": "code",
   "execution_count": 129,
   "id": "4a04472d",
   "metadata": {},
   "outputs": [],
   "source": [
    "import matplotlib.pyplot as plt"
   ]
  },
  {
   "cell_type": "code",
   "execution_count": 132,
   "id": "83ca7cd7",
   "metadata": {},
   "outputs": [
    {
     "data": {
      "text/plain": [
       "1080"
      ]
     },
     "execution_count": 132,
     "metadata": {},
     "output_type": "execute_result"
    }
   ],
   "source": [
    "len(merged_df)"
   ]
  },
  {
   "cell_type": "code",
   "execution_count": 133,
   "id": "26e0f7c1",
   "metadata": {},
   "outputs": [
    {
     "data": {
      "text/plain": [
       "1716"
      ]
     },
     "execution_count": 133,
     "metadata": {},
     "output_type": "execute_result"
    }
   ],
   "source": [
    "len(ff_df)"
   ]
  },
  {
   "cell_type": "code",
   "execution_count": 137,
   "id": "0af43532",
   "metadata": {},
   "outputs": [
    {
     "data": {
      "text/html": [
       "<div>\n",
       "<style scoped>\n",
       "    .dataframe tbody tr th:only-of-type {\n",
       "        vertical-align: middle;\n",
       "    }\n",
       "\n",
       "    .dataframe tbody tr th {\n",
       "        vertical-align: top;\n",
       "    }\n",
       "\n",
       "    .dataframe thead th {\n",
       "        text-align: right;\n",
       "    }\n",
       "</style>\n",
       "<table border=\"1\" class=\"dataframe\">\n",
       "  <thead>\n",
       "    <tr style=\"text-align: right;\">\n",
       "      <th></th>\n",
       "      <th>Spread</th>\n",
       "      <th>Mcap</th>\n",
       "      <th>P/B</th>\n",
       "      <th>P/E</th>\n",
       "      <th>Close</th>\n",
       "      <th>Volatility</th>\n",
       "      <th>30y_yield</th>\n",
       "      <th>AA Yield</th>\n",
       "      <th>Mkt_rf</th>\n",
       "      <th>smb</th>\n",
       "      <th>hml</th>\n",
       "      <th>rf</th>\n",
       "      <th>Yield</th>\n",
       "    </tr>\n",
       "    <tr>\n",
       "      <th>Date</th>\n",
       "      <th></th>\n",
       "      <th></th>\n",
       "      <th></th>\n",
       "      <th></th>\n",
       "      <th></th>\n",
       "      <th></th>\n",
       "      <th></th>\n",
       "      <th></th>\n",
       "      <th></th>\n",
       "      <th></th>\n",
       "      <th></th>\n",
       "      <th></th>\n",
       "      <th></th>\n",
       "    </tr>\n",
       "  </thead>\n",
       "  <tbody>\n",
       "    <tr>\n",
       "      <th>1990-01-05</th>\n",
       "      <td>0.97</td>\n",
       "      <td>NaN</td>\n",
       "      <td>NaN</td>\n",
       "      <td>15.1200</td>\n",
       "      <td>352.20</td>\n",
       "      <td>11.92</td>\n",
       "      <td>8.0560</td>\n",
       "      <td>8.89</td>\n",
       "      <td>-0.23</td>\n",
       "      <td>1.25</td>\n",
       "      <td>-0.76</td>\n",
       "      <td>0.141</td>\n",
       "      <td>3.17</td>\n",
       "    </tr>\n",
       "    <tr>\n",
       "      <th>1990-01-12</th>\n",
       "      <td>0.95</td>\n",
       "      <td>NaN</td>\n",
       "      <td>NaN</td>\n",
       "      <td>14.6600</td>\n",
       "      <td>339.93</td>\n",
       "      <td>14.44</td>\n",
       "      <td>8.1710</td>\n",
       "      <td>8.92</td>\n",
       "      <td>-3.56</td>\n",
       "      <td>0.51</td>\n",
       "      <td>0.61</td>\n",
       "      <td>0.141</td>\n",
       "      <td>NaN</td>\n",
       "    </tr>\n",
       "    <tr>\n",
       "      <th>1990-01-19</th>\n",
       "      <td>0.95</td>\n",
       "      <td>NaN</td>\n",
       "      <td>NaN</td>\n",
       "      <td>14.2400</td>\n",
       "      <td>339.15</td>\n",
       "      <td>14.67</td>\n",
       "      <td>8.2700</td>\n",
       "      <td>8.98</td>\n",
       "      <td>-0.47</td>\n",
       "      <td>-0.28</td>\n",
       "      <td>-0.19</td>\n",
       "      <td>0.141</td>\n",
       "      <td>NaN</td>\n",
       "    </tr>\n",
       "    <tr>\n",
       "      <th>1990-01-26</th>\n",
       "      <td>0.95</td>\n",
       "      <td>NaN</td>\n",
       "      <td>NaN</td>\n",
       "      <td>13.9400</td>\n",
       "      <td>325.80</td>\n",
       "      <td>16.41</td>\n",
       "      <td>8.5220</td>\n",
       "      <td>9.05</td>\n",
       "      <td>-4.21</td>\n",
       "      <td>-0.25</td>\n",
       "      <td>0.82</td>\n",
       "      <td>0.141</td>\n",
       "      <td>NaN</td>\n",
       "    </tr>\n",
       "    <tr>\n",
       "      <th>1990-02-02</th>\n",
       "      <td>0.95</td>\n",
       "      <td>1.734M</td>\n",
       "      <td>2.0013</td>\n",
       "      <td>13.8364</td>\n",
       "      <td>330.92</td>\n",
       "      <td>16.93</td>\n",
       "      <td>8.5100</td>\n",
       "      <td>9.15</td>\n",
       "      <td>1.22</td>\n",
       "      <td>-1.74</td>\n",
       "      <td>-0.07</td>\n",
       "      <td>0.142</td>\n",
       "      <td>3.28</td>\n",
       "    </tr>\n",
       "    <tr>\n",
       "      <th>...</th>\n",
       "      <td>...</td>\n",
       "      <td>...</td>\n",
       "      <td>...</td>\n",
       "      <td>...</td>\n",
       "      <td>...</td>\n",
       "      <td>...</td>\n",
       "      <td>...</td>\n",
       "      <td>...</td>\n",
       "      <td>...</td>\n",
       "      <td>...</td>\n",
       "      <td>...</td>\n",
       "      <td>...</td>\n",
       "      <td>...</td>\n",
       "    </tr>\n",
       "    <tr>\n",
       "      <th>2022-10-21</th>\n",
       "      <td>1.18</td>\n",
       "      <td>31.21M</td>\n",
       "      <td>3.7839</td>\n",
       "      <td>18.1706</td>\n",
       "      <td>3752.75</td>\n",
       "      <td>29.19</td>\n",
       "      <td>4.3335</td>\n",
       "      <td>5.23</td>\n",
       "      <td>NaN</td>\n",
       "      <td>NaN</td>\n",
       "      <td>NaN</td>\n",
       "      <td>NaN</td>\n",
       "      <td>1.75</td>\n",
       "    </tr>\n",
       "    <tr>\n",
       "      <th>2022-10-28</th>\n",
       "      <td>1.17</td>\n",
       "      <td>32.365M</td>\n",
       "      <td>3.9334</td>\n",
       "      <td>18.8887</td>\n",
       "      <td>3901.06</td>\n",
       "      <td>27.85</td>\n",
       "      <td>4.1414</td>\n",
       "      <td>5.24</td>\n",
       "      <td>NaN</td>\n",
       "      <td>NaN</td>\n",
       "      <td>NaN</td>\n",
       "      <td>NaN</td>\n",
       "      <td>1.68</td>\n",
       "    </tr>\n",
       "    <tr>\n",
       "      <th>2022-11-04</th>\n",
       "      <td>NaN</td>\n",
       "      <td>31.234M</td>\n",
       "      <td>3.7974</td>\n",
       "      <td>18.2299</td>\n",
       "      <td>3770.55</td>\n",
       "      <td>27.96</td>\n",
       "      <td>4.2463</td>\n",
       "      <td>NaN</td>\n",
       "      <td>NaN</td>\n",
       "      <td>NaN</td>\n",
       "      <td>NaN</td>\n",
       "      <td>NaN</td>\n",
       "      <td>1.75</td>\n",
       "    </tr>\n",
       "    <tr>\n",
       "      <th>2022-11-09</th>\n",
       "      <td>NaN</td>\n",
       "      <td>31.046M</td>\n",
       "      <td>NaN</td>\n",
       "      <td>NaN</td>\n",
       "      <td>NaN</td>\n",
       "      <td>NaN</td>\n",
       "      <td>NaN</td>\n",
       "      <td>NaN</td>\n",
       "      <td>NaN</td>\n",
       "      <td>NaN</td>\n",
       "      <td>NaN</td>\n",
       "      <td>NaN</td>\n",
       "      <td>NaN</td>\n",
       "    </tr>\n",
       "    <tr>\n",
       "      <th>2022-11-10</th>\n",
       "      <td>NaN</td>\n",
       "      <td>NaN</td>\n",
       "      <td>3.9377</td>\n",
       "      <td>18.8967</td>\n",
       "      <td>3909.32</td>\n",
       "      <td>29.54</td>\n",
       "      <td>4.1168</td>\n",
       "      <td>NaN</td>\n",
       "      <td>NaN</td>\n",
       "      <td>NaN</td>\n",
       "      <td>NaN</td>\n",
       "      <td>NaN</td>\n",
       "      <td>1.69</td>\n",
       "    </tr>\n",
       "  </tbody>\n",
       "</table>\n",
       "<p>1716 rows × 13 columns</p>\n",
       "</div>"
      ],
      "text/plain": [
       "            Spread     Mcap     P/B      P/E    Close  Volatility  30y_yield  \\\n",
       "Date                                                                           \n",
       "1990-01-05    0.97      NaN     NaN  15.1200   352.20       11.92     8.0560   \n",
       "1990-01-12    0.95      NaN     NaN  14.6600   339.93       14.44     8.1710   \n",
       "1990-01-19    0.95      NaN     NaN  14.2400   339.15       14.67     8.2700   \n",
       "1990-01-26    0.95      NaN     NaN  13.9400   325.80       16.41     8.5220   \n",
       "1990-02-02    0.95   1.734M  2.0013  13.8364   330.92       16.93     8.5100   \n",
       "...            ...      ...     ...      ...      ...         ...        ...   \n",
       "2022-10-21    1.18   31.21M  3.7839  18.1706  3752.75       29.19     4.3335   \n",
       "2022-10-28    1.17  32.365M  3.9334  18.8887  3901.06       27.85     4.1414   \n",
       "2022-11-04     NaN  31.234M  3.7974  18.2299  3770.55       27.96     4.2463   \n",
       "2022-11-09     NaN  31.046M     NaN      NaN      NaN         NaN        NaN   \n",
       "2022-11-10     NaN      NaN  3.9377  18.8967  3909.32       29.54     4.1168   \n",
       "\n",
       "            AA Yield  Mkt_rf   smb   hml     rf  Yield  \n",
       "Date                                                    \n",
       "1990-01-05      8.89   -0.23  1.25 -0.76  0.141   3.17  \n",
       "1990-01-12      8.92   -3.56  0.51  0.61  0.141    NaN  \n",
       "1990-01-19      8.98   -0.47 -0.28 -0.19  0.141    NaN  \n",
       "1990-01-26      9.05   -4.21 -0.25  0.82  0.141    NaN  \n",
       "1990-02-02      9.15    1.22 -1.74 -0.07  0.142   3.28  \n",
       "...              ...     ...   ...   ...    ...    ...  \n",
       "2022-10-21      5.23     NaN   NaN   NaN    NaN   1.75  \n",
       "2022-10-28      5.24     NaN   NaN   NaN    NaN   1.68  \n",
       "2022-11-04       NaN     NaN   NaN   NaN    NaN   1.75  \n",
       "2022-11-09       NaN     NaN   NaN   NaN    NaN    NaN  \n",
       "2022-11-10       NaN     NaN   NaN   NaN    NaN   1.69  \n",
       "\n",
       "[1716 rows x 13 columns]"
      ]
     },
     "execution_count": 137,
     "metadata": {},
     "output_type": "execute_result"
    }
   ],
   "source": [
    "ff_div_df"
   ]
  },
  {
   "cell_type": "code",
   "execution_count": 140,
   "id": "367432b1",
   "metadata": {},
   "outputs": [],
   "source": [
    "ylds = pd.read_csv(\"prediv.csv\")"
   ]
  },
  {
   "cell_type": "code",
   "execution_count": 141,
   "id": "899ada19",
   "metadata": {},
   "outputs": [
    {
     "data": {
      "text/html": [
       "<div>\n",
       "<style scoped>\n",
       "    .dataframe tbody tr th:only-of-type {\n",
       "        vertical-align: middle;\n",
       "    }\n",
       "\n",
       "    .dataframe tbody tr th {\n",
       "        vertical-align: top;\n",
       "    }\n",
       "\n",
       "    .dataframe thead th {\n",
       "        text-align: right;\n",
       "    }\n",
       "</style>\n",
       "<table border=\"1\" class=\"dataframe\">\n",
       "  <thead>\n",
       "    <tr style=\"text-align: right;\">\n",
       "      <th></th>\n",
       "      <th>Date</th>\n",
       "      <th>Last Px</th>\n",
       "    </tr>\n",
       "  </thead>\n",
       "  <tbody>\n",
       "    <tr>\n",
       "      <th>0</th>\n",
       "      <td>10/21/2022</td>\n",
       "      <td>3.989</td>\n",
       "    </tr>\n",
       "    <tr>\n",
       "      <th>1</th>\n",
       "      <td>10/14/2022</td>\n",
       "      <td>3.717</td>\n",
       "    </tr>\n",
       "    <tr>\n",
       "      <th>2</th>\n",
       "      <td>10/7/2022</td>\n",
       "      <td>3.356</td>\n",
       "    </tr>\n",
       "    <tr>\n",
       "      <th>3</th>\n",
       "      <td>9/30/2022</td>\n",
       "      <td>3.270</td>\n",
       "    </tr>\n",
       "    <tr>\n",
       "      <th>4</th>\n",
       "      <td>9/23/2022</td>\n",
       "      <td>3.190</td>\n",
       "    </tr>\n",
       "  </tbody>\n",
       "</table>\n",
       "</div>"
      ],
      "text/plain": [
       "         Date  Last Px\n",
       "0  10/21/2022    3.989\n",
       "1  10/14/2022    3.717\n",
       "2   10/7/2022    3.356\n",
       "3   9/30/2022    3.270\n",
       "4   9/23/2022    3.190"
      ]
     },
     "execution_count": 141,
     "metadata": {},
     "output_type": "execute_result"
    }
   ],
   "source": [
    "ylds.head()"
   ]
  },
  {
   "cell_type": "code",
   "execution_count": 142,
   "id": "d025fe19",
   "metadata": {},
   "outputs": [],
   "source": [
    "filepath = Path(\"final.csv\")"
   ]
  },
  {
   "cell_type": "code",
   "execution_count": 143,
   "id": "139b4f32",
   "metadata": {},
   "outputs": [],
   "source": [
    "ff_div_df.to_csv(filepath)"
   ]
  },
  {
   "cell_type": "code",
   "execution_count": 145,
   "id": "dbe11445",
   "metadata": {},
   "outputs": [],
   "source": [
    "ylds['Date'] = pd.to_datetime(ylds['Date'])"
   ]
  },
  {
   "cell_type": "code",
   "execution_count": 147,
   "id": "fa660fe2",
   "metadata": {},
   "outputs": [],
   "source": [
    "ylds.set_index('Date', inplace = True)"
   ]
  },
  {
   "cell_type": "code",
   "execution_count": 149,
   "id": "74c9bd90",
   "metadata": {},
   "outputs": [],
   "source": [
    "ylds.rename(columns = {'Last Px':'3m'}, inplace = True)"
   ]
  },
  {
   "cell_type": "code",
   "execution_count": 153,
   "id": "43a032d6",
   "metadata": {},
   "outputs": [],
   "source": [
    "ff_div_df = ff_div_df.join(ylds)"
   ]
  },
  {
   "cell_type": "code",
   "execution_count": 155,
   "id": "f4b8f6ec",
   "metadata": {},
   "outputs": [],
   "source": [
    "ff_div_df.to_csv(filepath)"
   ]
  },
  {
   "cell_type": "code",
   "execution_count": 156,
   "id": "73d0191b",
   "metadata": {},
   "outputs": [],
   "source": [
    "inflation = pd.read_csv(\"prediv.csv\")"
   ]
  },
  {
   "cell_type": "code",
   "execution_count": 159,
   "id": "0b342745",
   "metadata": {},
   "outputs": [],
   "source": [
    "inflation['Date'] = pd.to_datetime(inflation['Date'])"
   ]
  },
  {
   "cell_type": "code",
   "execution_count": 160,
   "id": "c355af0c",
   "metadata": {},
   "outputs": [],
   "source": [
    "data = []\n",
    "for index, row in inflation.iterrows():\n",
    "    today = row[0]\n",
    "    friday = today + dt.timedelta( (4-today.weekday()) % 7 )\n",
    "    data.append(friday)"
   ]
  },
  {
   "cell_type": "code",
   "execution_count": 163,
   "id": "db8cadf5",
   "metadata": {},
   "outputs": [],
   "source": [
    "inflation.set_index('Date', inplace = True)"
   ]
  },
  {
   "cell_type": "code",
   "execution_count": 165,
   "id": "ac88b716",
   "metadata": {},
   "outputs": [
    {
     "data": {
      "text/html": [
       "<div>\n",
       "<style scoped>\n",
       "    .dataframe tbody tr th:only-of-type {\n",
       "        vertical-align: middle;\n",
       "    }\n",
       "\n",
       "    .dataframe tbody tr th {\n",
       "        vertical-align: top;\n",
       "    }\n",
       "\n",
       "    .dataframe thead th {\n",
       "        text-align: right;\n",
       "    }\n",
       "</style>\n",
       "<table border=\"1\" class=\"dataframe\">\n",
       "  <thead>\n",
       "    <tr style=\"text-align: right;\">\n",
       "      <th></th>\n",
       "      <th>Inflation</th>\n",
       "    </tr>\n",
       "    <tr>\n",
       "      <th>Date</th>\n",
       "      <th></th>\n",
       "    </tr>\n",
       "  </thead>\n",
       "  <tbody>\n",
       "    <tr>\n",
       "      <th>2022-11-04</th>\n",
       "      <td>7.7</td>\n",
       "    </tr>\n",
       "    <tr>\n",
       "      <th>2022-09-30</th>\n",
       "      <td>8.2</td>\n",
       "    </tr>\n",
       "    <tr>\n",
       "      <th>2022-09-02</th>\n",
       "      <td>8.3</td>\n",
       "    </tr>\n",
       "    <tr>\n",
       "      <th>2022-08-05</th>\n",
       "      <td>8.5</td>\n",
       "    </tr>\n",
       "    <tr>\n",
       "      <th>2022-07-01</th>\n",
       "      <td>9.1</td>\n",
       "    </tr>\n",
       "  </tbody>\n",
       "</table>\n",
       "</div>"
      ],
      "text/plain": [
       "            Inflation\n",
       "Date                 \n",
       "2022-11-04        7.7\n",
       "2022-09-30        8.2\n",
       "2022-09-02        8.3\n",
       "2022-08-05        8.5\n",
       "2022-07-01        9.1"
      ]
     },
     "execution_count": 165,
     "metadata": {},
     "output_type": "execute_result"
    }
   ],
   "source": [
    "inflation.head()"
   ]
  },
  {
   "cell_type": "code",
   "execution_count": 161,
   "id": "c8242b31",
   "metadata": {},
   "outputs": [
    {
     "data": {
      "text/plain": [
       "406"
      ]
     },
     "execution_count": 161,
     "metadata": {},
     "output_type": "execute_result"
    }
   ],
   "source": [
    "len(inflation)"
   ]
  },
  {
   "cell_type": "code",
   "execution_count": 162,
   "id": "b72842f4",
   "metadata": {},
   "outputs": [],
   "source": [
    "inflation['Date'] = data"
   ]
  },
  {
   "cell_type": "code",
   "execution_count": 167,
   "id": "ffab6f7c",
   "metadata": {},
   "outputs": [],
   "source": [
    "final = ff_div_df.join(inflation)"
   ]
  },
  {
   "cell_type": "code",
   "execution_count": 172,
   "id": "d6e09d4e",
   "metadata": {},
   "outputs": [
    {
     "data": {
      "text/html": [
       "<div>\n",
       "<style scoped>\n",
       "    .dataframe tbody tr th:only-of-type {\n",
       "        vertical-align: middle;\n",
       "    }\n",
       "\n",
       "    .dataframe tbody tr th {\n",
       "        vertical-align: top;\n",
       "    }\n",
       "\n",
       "    .dataframe thead th {\n",
       "        text-align: right;\n",
       "    }\n",
       "</style>\n",
       "<table border=\"1\" class=\"dataframe\">\n",
       "  <thead>\n",
       "    <tr style=\"text-align: right;\">\n",
       "      <th></th>\n",
       "      <th>Spread</th>\n",
       "      <th>Mcap</th>\n",
       "      <th>P/B</th>\n",
       "      <th>P/E</th>\n",
       "      <th>Close</th>\n",
       "      <th>Volatility</th>\n",
       "      <th>30y_yield</th>\n",
       "      <th>AA Yield</th>\n",
       "      <th>Mkt_rf</th>\n",
       "      <th>smb</th>\n",
       "      <th>hml</th>\n",
       "      <th>rf</th>\n",
       "      <th>Yield</th>\n",
       "      <th>3m</th>\n",
       "      <th>Inflation</th>\n",
       "    </tr>\n",
       "    <tr>\n",
       "      <th>Date</th>\n",
       "      <th></th>\n",
       "      <th></th>\n",
       "      <th></th>\n",
       "      <th></th>\n",
       "      <th></th>\n",
       "      <th></th>\n",
       "      <th></th>\n",
       "      <th></th>\n",
       "      <th></th>\n",
       "      <th></th>\n",
       "      <th></th>\n",
       "      <th></th>\n",
       "      <th></th>\n",
       "      <th></th>\n",
       "      <th></th>\n",
       "    </tr>\n",
       "  </thead>\n",
       "  <tbody>\n",
       "    <tr>\n",
       "      <th>1990-01-05</th>\n",
       "      <td>0.97</td>\n",
       "      <td>NaN</td>\n",
       "      <td>NaN</td>\n",
       "      <td>15.1200</td>\n",
       "      <td>352.20</td>\n",
       "      <td>11.92</td>\n",
       "      <td>8.0560</td>\n",
       "      <td>8.89</td>\n",
       "      <td>-0.23</td>\n",
       "      <td>1.25</td>\n",
       "      <td>-0.76</td>\n",
       "      <td>0.141</td>\n",
       "      <td>3.17</td>\n",
       "      <td>NaN</td>\n",
       "      <td>4.6</td>\n",
       "    </tr>\n",
       "    <tr>\n",
       "      <th>1990-01-12</th>\n",
       "      <td>0.95</td>\n",
       "      <td>NaN</td>\n",
       "      <td>NaN</td>\n",
       "      <td>14.6600</td>\n",
       "      <td>339.93</td>\n",
       "      <td>14.44</td>\n",
       "      <td>8.1710</td>\n",
       "      <td>8.92</td>\n",
       "      <td>-3.56</td>\n",
       "      <td>0.51</td>\n",
       "      <td>0.61</td>\n",
       "      <td>0.141</td>\n",
       "      <td>NaN</td>\n",
       "      <td>NaN</td>\n",
       "      <td>NaN</td>\n",
       "    </tr>\n",
       "    <tr>\n",
       "      <th>1990-01-19</th>\n",
       "      <td>0.95</td>\n",
       "      <td>NaN</td>\n",
       "      <td>NaN</td>\n",
       "      <td>14.2400</td>\n",
       "      <td>339.15</td>\n",
       "      <td>14.67</td>\n",
       "      <td>8.2700</td>\n",
       "      <td>8.98</td>\n",
       "      <td>-0.47</td>\n",
       "      <td>-0.28</td>\n",
       "      <td>-0.19</td>\n",
       "      <td>0.141</td>\n",
       "      <td>NaN</td>\n",
       "      <td>NaN</td>\n",
       "      <td>NaN</td>\n",
       "    </tr>\n",
       "    <tr>\n",
       "      <th>1990-01-26</th>\n",
       "      <td>0.95</td>\n",
       "      <td>NaN</td>\n",
       "      <td>NaN</td>\n",
       "      <td>13.9400</td>\n",
       "      <td>325.80</td>\n",
       "      <td>16.41</td>\n",
       "      <td>8.5220</td>\n",
       "      <td>9.05</td>\n",
       "      <td>-4.21</td>\n",
       "      <td>-0.25</td>\n",
       "      <td>0.82</td>\n",
       "      <td>0.141</td>\n",
       "      <td>NaN</td>\n",
       "      <td>NaN</td>\n",
       "      <td>NaN</td>\n",
       "    </tr>\n",
       "    <tr>\n",
       "      <th>1990-02-02</th>\n",
       "      <td>0.95</td>\n",
       "      <td>1.734M</td>\n",
       "      <td>2.0013</td>\n",
       "      <td>13.8364</td>\n",
       "      <td>330.92</td>\n",
       "      <td>16.93</td>\n",
       "      <td>8.5100</td>\n",
       "      <td>9.15</td>\n",
       "      <td>1.22</td>\n",
       "      <td>-1.74</td>\n",
       "      <td>-0.07</td>\n",
       "      <td>0.142</td>\n",
       "      <td>3.28</td>\n",
       "      <td>NaN</td>\n",
       "      <td>5.2</td>\n",
       "    </tr>\n",
       "    <tr>\n",
       "      <th>...</th>\n",
       "      <td>...</td>\n",
       "      <td>...</td>\n",
       "      <td>...</td>\n",
       "      <td>...</td>\n",
       "      <td>...</td>\n",
       "      <td>...</td>\n",
       "      <td>...</td>\n",
       "      <td>...</td>\n",
       "      <td>...</td>\n",
       "      <td>...</td>\n",
       "      <td>...</td>\n",
       "      <td>...</td>\n",
       "      <td>...</td>\n",
       "      <td>...</td>\n",
       "      <td>...</td>\n",
       "    </tr>\n",
       "    <tr>\n",
       "      <th>2022-10-21</th>\n",
       "      <td>1.18</td>\n",
       "      <td>31.21M</td>\n",
       "      <td>3.7839</td>\n",
       "      <td>18.1706</td>\n",
       "      <td>3752.75</td>\n",
       "      <td>29.19</td>\n",
       "      <td>4.3335</td>\n",
       "      <td>5.23</td>\n",
       "      <td>NaN</td>\n",
       "      <td>NaN</td>\n",
       "      <td>NaN</td>\n",
       "      <td>NaN</td>\n",
       "      <td>1.75</td>\n",
       "      <td>3.989</td>\n",
       "      <td>NaN</td>\n",
       "    </tr>\n",
       "    <tr>\n",
       "      <th>2022-10-28</th>\n",
       "      <td>1.17</td>\n",
       "      <td>32.365M</td>\n",
       "      <td>3.9334</td>\n",
       "      <td>18.8887</td>\n",
       "      <td>3901.06</td>\n",
       "      <td>27.85</td>\n",
       "      <td>4.1414</td>\n",
       "      <td>5.24</td>\n",
       "      <td>NaN</td>\n",
       "      <td>NaN</td>\n",
       "      <td>NaN</td>\n",
       "      <td>NaN</td>\n",
       "      <td>1.68</td>\n",
       "      <td>NaN</td>\n",
       "      <td>NaN</td>\n",
       "    </tr>\n",
       "    <tr>\n",
       "      <th>2022-11-04</th>\n",
       "      <td>NaN</td>\n",
       "      <td>31.234M</td>\n",
       "      <td>3.7974</td>\n",
       "      <td>18.2299</td>\n",
       "      <td>3770.55</td>\n",
       "      <td>27.96</td>\n",
       "      <td>4.2463</td>\n",
       "      <td>NaN</td>\n",
       "      <td>NaN</td>\n",
       "      <td>NaN</td>\n",
       "      <td>NaN</td>\n",
       "      <td>NaN</td>\n",
       "      <td>1.75</td>\n",
       "      <td>NaN</td>\n",
       "      <td>7.7</td>\n",
       "    </tr>\n",
       "    <tr>\n",
       "      <th>2022-11-09</th>\n",
       "      <td>NaN</td>\n",
       "      <td>31.046M</td>\n",
       "      <td>NaN</td>\n",
       "      <td>NaN</td>\n",
       "      <td>NaN</td>\n",
       "      <td>NaN</td>\n",
       "      <td>NaN</td>\n",
       "      <td>NaN</td>\n",
       "      <td>NaN</td>\n",
       "      <td>NaN</td>\n",
       "      <td>NaN</td>\n",
       "      <td>NaN</td>\n",
       "      <td>NaN</td>\n",
       "      <td>NaN</td>\n",
       "      <td>NaN</td>\n",
       "    </tr>\n",
       "    <tr>\n",
       "      <th>2022-11-10</th>\n",
       "      <td>NaN</td>\n",
       "      <td>NaN</td>\n",
       "      <td>3.9377</td>\n",
       "      <td>18.8967</td>\n",
       "      <td>3909.32</td>\n",
       "      <td>29.54</td>\n",
       "      <td>4.1168</td>\n",
       "      <td>NaN</td>\n",
       "      <td>NaN</td>\n",
       "      <td>NaN</td>\n",
       "      <td>NaN</td>\n",
       "      <td>NaN</td>\n",
       "      <td>1.69</td>\n",
       "      <td>NaN</td>\n",
       "      <td>NaN</td>\n",
       "    </tr>\n",
       "  </tbody>\n",
       "</table>\n",
       "<p>1716 rows × 15 columns</p>\n",
       "</div>"
      ],
      "text/plain": [
       "            Spread     Mcap     P/B      P/E    Close  Volatility  30y_yield  \\\n",
       "Date                                                                           \n",
       "1990-01-05    0.97      NaN     NaN  15.1200   352.20       11.92     8.0560   \n",
       "1990-01-12    0.95      NaN     NaN  14.6600   339.93       14.44     8.1710   \n",
       "1990-01-19    0.95      NaN     NaN  14.2400   339.15       14.67     8.2700   \n",
       "1990-01-26    0.95      NaN     NaN  13.9400   325.80       16.41     8.5220   \n",
       "1990-02-02    0.95   1.734M  2.0013  13.8364   330.92       16.93     8.5100   \n",
       "...            ...      ...     ...      ...      ...         ...        ...   \n",
       "2022-10-21    1.18   31.21M  3.7839  18.1706  3752.75       29.19     4.3335   \n",
       "2022-10-28    1.17  32.365M  3.9334  18.8887  3901.06       27.85     4.1414   \n",
       "2022-11-04     NaN  31.234M  3.7974  18.2299  3770.55       27.96     4.2463   \n",
       "2022-11-09     NaN  31.046M     NaN      NaN      NaN         NaN        NaN   \n",
       "2022-11-10     NaN      NaN  3.9377  18.8967  3909.32       29.54     4.1168   \n",
       "\n",
       "            AA Yield  Mkt_rf   smb   hml     rf  Yield     3m  Inflation  \n",
       "Date                                                                      \n",
       "1990-01-05      8.89   -0.23  1.25 -0.76  0.141   3.17    NaN        4.6  \n",
       "1990-01-12      8.92   -3.56  0.51  0.61  0.141    NaN    NaN        NaN  \n",
       "1990-01-19      8.98   -0.47 -0.28 -0.19  0.141    NaN    NaN        NaN  \n",
       "1990-01-26      9.05   -4.21 -0.25  0.82  0.141    NaN    NaN        NaN  \n",
       "1990-02-02      9.15    1.22 -1.74 -0.07  0.142   3.28    NaN        5.2  \n",
       "...              ...     ...   ...   ...    ...    ...    ...        ...  \n",
       "2022-10-21      5.23     NaN   NaN   NaN    NaN   1.75  3.989        NaN  \n",
       "2022-10-28      5.24     NaN   NaN   NaN    NaN   1.68    NaN        NaN  \n",
       "2022-11-04       NaN     NaN   NaN   NaN    NaN   1.75    NaN        7.7  \n",
       "2022-11-09       NaN     NaN   NaN   NaN    NaN    NaN    NaN        NaN  \n",
       "2022-11-10       NaN     NaN   NaN   NaN    NaN   1.69    NaN        NaN  \n",
       "\n",
       "[1716 rows x 15 columns]"
      ]
     },
     "execution_count": 172,
     "metadata": {},
     "output_type": "execute_result"
    }
   ],
   "source": [
    "final"
   ]
  },
  {
   "cell_type": "code",
   "execution_count": 173,
   "id": "1417d1cc",
   "metadata": {},
   "outputs": [],
   "source": [
    "final.to_csv(filepath)"
   ]
  },
  {
   "cell_type": "code",
   "execution_count": null,
   "id": "9abe27c1",
   "metadata": {},
   "outputs": [],
   "source": []
  }
 ],
 "metadata": {
  "kernelspec": {
   "display_name": "Python 3 (ipykernel)",
   "language": "python",
   "name": "python3"
  },
  "language_info": {
   "codemirror_mode": {
    "name": "ipython",
    "version": 3
   },
   "file_extension": ".py",
   "mimetype": "text/x-python",
   "name": "python",
   "nbconvert_exporter": "python",
   "pygments_lexer": "ipython3",
   "version": "3.10.6"
  }
 },
 "nbformat": 4,
 "nbformat_minor": 5
}
